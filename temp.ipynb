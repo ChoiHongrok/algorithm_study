{
 "cells": [
  {
   "cell_type": "code",
   "execution_count": 28,
   "metadata": {},
   "outputs": [
    {
     "name": "stdout",
     "output_type": "stream",
     "text": [
      "4 14\n",
      "0 2 8 8 3 7 9 8 4 3 5 1 4 4 \n",
      "4 8 2 5 9 9 3 4 6 3 5 1 8 7 \n",
      "0 8 2 5 3 1 3 2 7 6 8 0 7 0 \n",
      "4 3 9 2 4 3 4 5 1 5 1 3 5 3 \n"
     ]
    }
   ],
   "source": [
    "import random \n",
    "\n",
    "N = 4\n",
    "M = 14\n",
    "\n",
    "print(N, M)\n",
    "for i in range(N):\n",
    "    for j in range(M):\n",
    "        print(random.randint(0, 9), end=' ')\n",
    "    print()"
   ]
  },
  {
   "cell_type": "code",
   "execution_count": 30,
   "metadata": {},
   "outputs": [
    {
     "data": {
      "text/plain": [
       "34"
      ]
     },
     "execution_count": 30,
     "metadata": {},
     "output_type": "execute_result"
    }
   ],
   "source": [
    "9+9+9+7"
   ]
  }
 ],
 "metadata": {
  "kernelspec": {
   "display_name": "Python 3",
   "language": "python",
   "name": "python3"
  },
  "language_info": {
   "codemirror_mode": {
    "name": "ipython",
    "version": 3
   },
   "file_extension": ".py",
   "mimetype": "text/x-python",
   "name": "python",
   "nbconvert_exporter": "python",
   "pygments_lexer": "ipython3",
   "version": "3.9.6"
  },
  "orig_nbformat": 4
 },
 "nbformat": 4,
 "nbformat_minor": 2
}
