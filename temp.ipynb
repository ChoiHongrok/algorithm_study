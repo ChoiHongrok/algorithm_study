{
 "cells": [
  {
   "cell_type": "code",
   "execution_count": 26,
   "metadata": {},
   "outputs": [
    {
     "name": "stdout",
     "output_type": "stream",
     "text": [
      "4 14\n",
      "8 1 4 9 9 3 9 4 7 7 5 4 6 2 \n",
      "5 2 2 1 9 7 1 3 4 4 2 7 8 2 \n",
      "9 6 7 7 7 2 9 7 8 2 8 8 7 1 \n",
      "1 9 4 10 9 1 4 5 10 8 6 2 8 6 \n"
     ]
    }
   ],
   "source": [
    "import random \n",
    "\n",
    "N = 4\n",
    "M = 14\n",
    "\n",
    "print(N, M)\n",
    "for i in range(N):\n",
    "    for j in range(M):\n",
    "        print(random.randint(1, 10), end=' ')\n",
    "    print()"
   ]
  },
  {
   "cell_type": "code",
   "execution_count": 6,
   "metadata": {},
   "outputs": [
    {
     "data": {
      "text/plain": [
       "40"
      ]
     },
     "execution_count": 6,
     "metadata": {},
     "output_type": "execute_result"
    }
   ],
   "source": [
    "random.randint(1, 100)"
   ]
  }
 ],
 "metadata": {
  "kernelspec": {
   "display_name": "Python 3",
   "language": "python",
   "name": "python3"
  },
  "language_info": {
   "codemirror_mode": {
    "name": "ipython",
    "version": 3
   },
   "file_extension": ".py",
   "mimetype": "text/x-python",
   "name": "python",
   "nbconvert_exporter": "python",
   "pygments_lexer": "ipython3",
   "version": "3.9.6"
  },
  "orig_nbformat": 4
 },
 "nbformat": 4,
 "nbformat_minor": 2
}
